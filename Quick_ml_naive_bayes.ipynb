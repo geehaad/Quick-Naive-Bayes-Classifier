{
 "cells": [
  {
   "cell_type": "markdown",
   "metadata": {},
   "source": [
    "<h1>Classifier Building in Scikit-learn</h1>"
   ]
  },
  {
   "cell_type": "markdown",
   "metadata": {},
   "source": [
    "This is a part of my article at <a href= \"https://theactivereader.medium.com/?source=home---------2---------------------c40960af_8c5a_44ca_96fb_32b14f8bf3e7-------2\">Salam</a>, you can read the article from here: "
   ]
  },
  {
   "cell_type": "markdown",
   "metadata": {},
   "source": [
    "<p>This script gives a VERY basic step by step approach to use the Naive Bayes algorithm\n",
    "using the scikit-learn python library.<br>\n",
    "The library includes a variety of classifiers depending on the distribution of your data. <br>\n",
    "At the end of the script I just apply a prediction for each possible 'Evidence' class. \n",
    "</p>"
   ]
  },
  {
   "cell_type": "markdown",
   "metadata": {},
   "source": [
    "In this example, you can use the dummy dataset with two columns: Evidence, and cancer. "
   ]
  },
  {
   "cell_type": "code",
   "execution_count": 3,
   "metadata": {},
   "outputs": [],
   "source": [
    "import pandas as pd\n",
    "from sklearn import preprocessing\n",
    "from sklearn.naive_bayes import CategoricalNB\n",
    "import numpy as np"
   ]
  },
  {
   "cell_type": "code",
   "execution_count": 18,
   "metadata": {},
   "outputs": [],
   "source": [
    "# create some data\n",
    "evidence = pd.Series(['smoke', 'Obesity','Alcohol', 'Diet', 'Materials', 'smoke', 'Cancer_syndromes', 'Cancer_syndromes', 'Bacteria_and_parasites',\n",
    "                     'Diet', 'Viruses', 'smoke', 'Alcohol', 'Alcohol', 'smoke', 'Cancer_syndromes', 'Obesity'])\n",
    "\n",
    "cancer = pd.Series(['yes', 'no','no', 'no', 'yes', 'yes', 'yes', 'yes', 'yes', 'yes', 'yes', 'yes', 'yes', 'no', 'no', 'no', 'yes'])"
   ]
  },
  {
   "cell_type": "code",
   "execution_count": 19,
   "metadata": {},
   "outputs": [],
   "source": [
    "# create pandas dataframe and rename columns\n",
    "df = pd.concat([evidence, cancer], axis=1)\n",
    "df.columns = ['Evidence', 'Cancer']"
   ]
  },
  {
   "cell_type": "code",
   "execution_count": 20,
   "metadata": {},
   "outputs": [
    {
     "name": "stdout",
     "output_type": "stream",
     "text": [
      "    Evidence Cancer\n",
      "0      smoke    yes\n",
      "1    Obesity     no\n",
      "2    Alcohol     no\n",
      "3       Diet     no\n",
      "4  Materials    yes\n"
     ]
    }
   ],
   "source": [
    "print(df.head())"
   ]
  },
  {
   "cell_type": "code",
   "execution_count": 21,
   "metadata": {},
   "outputs": [
    {
     "name": "stdout",
     "output_type": "stream",
     "text": [
      "Cancer                  no  yes\n",
      "Evidence                       \n",
      "Alcohol                  2    1\n",
      "Bacteria_and_parasites   0    1\n",
      "Cancer_syndromes         1    2\n",
      "Diet                     1    1\n",
      "Materials                0    1\n",
      "Obesity                  1    1\n",
      "Viruses                  0    1\n",
      "smoke                    1    3\n"
     ]
    }
   ],
   "source": [
    "# create frequency table\n",
    "print(pd.crosstab(index=df['Evidence'], columns=df['Cancer']))"
   ]
  },
  {
   "cell_type": "code",
   "execution_count": 22,
   "metadata": {},
   "outputs": [],
   "source": [
    "# encode the features\n",
    "oe_evidence = preprocessing.OrdinalEncoder()\n",
    "le_cancer = preprocessing.LabelEncoder()"
   ]
  },
  {
   "cell_type": "code",
   "execution_count": 27,
   "metadata": {},
   "outputs": [],
   "source": [
    "# ordinal encoder for evidence feature\n",
    "oe_evidence.fit(np.array(df['Evidence']).reshape(-1,1))\n",
    "evidence = oe_evidence.transform(np.array(df['Evidence']).reshape(-1, 1))"
   ]
  },
  {
   "cell_type": "code",
   "execution_count": 28,
   "metadata": {},
   "outputs": [
    {
     "data": {
      "text/plain": [
       "array([[7.],\n",
       "       [5.],\n",
       "       [0.],\n",
       "       [3.],\n",
       "       [4.],\n",
       "       [7.],\n",
       "       [2.],\n",
       "       [2.],\n",
       "       [1.],\n",
       "       [3.],\n",
       "       [6.],\n",
       "       [7.],\n",
       "       [0.],\n",
       "       [0.],\n",
       "       [7.],\n",
       "       [2.],\n",
       "       [5.]])"
      ]
     },
     "execution_count": 28,
     "metadata": {},
     "output_type": "execute_result"
    }
   ],
   "source": [
    "evidence"
   ]
  },
  {
   "cell_type": "code",
   "execution_count": 31,
   "metadata": {},
   "outputs": [],
   "source": [
    "# label encoder for target\n",
    "le_cancer.fit(df['Cancer'])\n",
    "cancer_y = le_cancer.fit_transform(df['Cancer'])"
   ]
  },
  {
   "cell_type": "code",
   "execution_count": 32,
   "metadata": {},
   "outputs": [
    {
     "data": {
      "text/plain": [
       "array([1, 0, 0, 0, 1, 1, 1, 1, 1, 1, 1, 1, 1, 0, 0, 0, 1])"
      ]
     },
     "execution_count": 32,
     "metadata": {},
     "output_type": "execute_result"
    }
   ],
   "source": [
    "cancer_y"
   ]
  },
  {
   "cell_type": "code",
   "execution_count": 33,
   "metadata": {},
   "outputs": [
    {
     "name": "stdout",
     "output_type": "stream",
     "text": [
      "[array(['Alcohol', 'Bacteria_and_parasites', 'Cancer_syndromes', 'Diet',\n",
      "       'Materials', 'Obesity', 'Viruses', 'smoke'], dtype=object)]\n"
     ]
    }
   ],
   "source": [
    "# view encodings\n",
    "print(oe_evidence.categories_)"
   ]
  },
  {
   "cell_type": "code",
   "execution_count": 35,
   "metadata": {},
   "outputs": [
    {
     "name": "stdout",
     "output_type": "stream",
     "text": [
      "['no' 'yes']\n"
     ]
    }
   ],
   "source": [
    "print(le_cancer.classes_)"
   ]
  },
  {
   "cell_type": "code",
   "execution_count": 36,
   "metadata": {},
   "outputs": [
    {
     "data": {
      "text/plain": [
       "CategoricalNB()"
      ]
     },
     "execution_count": 36,
     "metadata": {},
     "output_type": "execute_result"
    }
   ],
   "source": [
    "# set and fit classifier\n",
    "clf = CategoricalNB()\n",
    "clf.fit(evidence, cancer_y)"
   ]
  },
  {
   "cell_type": "code",
   "execution_count": 37,
   "metadata": {},
   "outputs": [],
   "source": [
    "# predict and view any given evidence value\n",
    "evidence_classes = np.unique(evidence)"
   ]
  },
  {
   "cell_type": "code",
   "execution_count": 40,
   "metadata": {},
   "outputs": [
    {
     "data": {
      "text/plain": [
       "array([0., 1., 2., 3., 4., 5., 6., 7.])"
      ]
     },
     "execution_count": 40,
     "metadata": {},
     "output_type": "execute_result"
    }
   ],
   "source": [
    "evidence_classes"
   ]
  },
  {
   "cell_type": "code",
   "execution_count": 59,
   "metadata": {},
   "outputs": [
    {
     "data": {
      "text/plain": [
       "[array(['Alcohol', 'Bacteria_and_parasites', 'Cancer_syndromes', 'Diet',\n",
       "        'Materials', 'Obesity', 'Viruses', 'smoke'], dtype=object)]"
      ]
     },
     "execution_count": 59,
     "metadata": {},
     "output_type": "execute_result"
    }
   ],
   "source": []
  },
  {
   "cell_type": "code",
   "execution_count": 74,
   "metadata": {},
   "outputs": [
    {
     "name": "stdout",
     "output_type": "stream",
     "text": [
      "evidence Alcohol - cancer probability: [[0.53 0.47]]\n",
      "evidence Bacteria_and_parasites - cancer probability: [[0.27 0.73]]\n",
      "evidence Cancer_syndromes - cancer probability: [[0.33 0.67]]\n",
      "evidence Diet - cancer probability: [[0.43 0.57]]\n",
      "evidence Materials - cancer probability: [[0.27 0.73]]\n",
      "evidence Obesity - cancer probability: [[0.43 0.57]]\n",
      "evidence Viruses - cancer probability: [[0.27 0.73]]\n",
      "evidence smoke - cancer probability: [[0.27 0.73]]\n"
     ]
    }
   ],
   "source": [
    "j -=1 \n",
    "for i in evidence_classes:\n",
    "    j +=1\n",
    "    print(\"evidence\", oe_evidence.categories_[0][j], \"-\",\n",
    "          \"cancer probability:\", np.round(clf.predict_proba([[i]]), 2))"
   ]
  },
  {
   "cell_type": "code",
   "execution_count": null,
   "metadata": {},
   "outputs": [],
   "source": []
  }
 ],
 "metadata": {
  "kernelspec": {
   "display_name": "Python 3",
   "language": "python",
   "name": "python3"
  },
  "language_info": {
   "codemirror_mode": {
    "name": "ipython",
    "version": 3
   },
   "file_extension": ".py",
   "mimetype": "text/x-python",
   "name": "python",
   "nbconvert_exporter": "python",
   "pygments_lexer": "ipython3",
   "version": "3.8.5"
  }
 },
 "nbformat": 4,
 "nbformat_minor": 4
}
